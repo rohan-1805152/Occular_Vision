{
  "nbformat": 4,
  "nbformat_minor": 0,
  "metadata": {
    "colab": {
      "name": "Temp_prediction.ipynb",
      "provenance": [],
      "collapsed_sections": [],
      "toc_visible": true
    },
    "kernelspec": {
      "display_name": "Python 3",
      "language": "python",
      "name": "python3"
    },
    "language_info": {
      "codemirror_mode": {
        "name": "ipython",
        "version": 3
      },
      "file_extension": ".py",
      "mimetype": "text/x-python",
      "name": "python",
      "nbconvert_exporter": "python",
      "pygments_lexer": "ipython3",
      "version": "3.7.6"
    }
  },
  "cells": [
    {
      "cell_type": "code",
      "metadata": {
        "id": "i7ou2HezZlmE"
      },
      "source": [
        ""
      ],
      "execution_count": null,
      "outputs": []
    },
    {
      "cell_type": "markdown",
      "metadata": {
        "id": "MhuJ2SDfZng_"
      },
      "source": [
        "## Temperature Prediction"
      ]
    },
    {
      "cell_type": "code",
      "metadata": {
        "id": "wTqvEV5TDl4P"
      },
      "source": [
        "import pandas as pd\n",
        "import numpy as np\n",
        "import datetime as dt\n",
        "import seaborn as sns\n",
        "import matplotlib.pyplot as plt\n",
        "%matplotlib inline \n",
        "\n",
        "from sklearn.model_selection import train_test_split\n",
        "from sklearn.ensemble import RandomForestRegressor\n",
        "from sklearn.metrics import mean_squared_error\n"
      ],
      "execution_count": null,
      "outputs": []
    },
    {
      "cell_type": "code",
      "metadata": {
        "colab": {
          "base_uri": "https://localhost:8080/",
          "height": 204
        },
        "id": "Ndiski7BDl4W",
        "outputId": "974dcef2-29d4-4024-bb24-09eccdb79914"
      },
      "source": [
        "data = pd.read_csv('/content/new_train.csv')\n",
        "data = pd.DataFrame(data)\n",
        "data.head()"
      ],
      "execution_count": null,
      "outputs": [
        {
          "output_type": "execute_result",
          "data": {
            "text/html": [
              "<div>\n",
              "<style scoped>\n",
              "    .dataframe tbody tr th:only-of-type {\n",
              "        vertical-align: middle;\n",
              "    }\n",
              "\n",
              "    .dataframe tbody tr th {\n",
              "        vertical-align: top;\n",
              "    }\n",
              "\n",
              "    .dataframe thead th {\n",
              "        text-align: right;\n",
              "    }\n",
              "</style>\n",
              "<table border=\"1\" class=\"dataframe\">\n",
              "  <thead>\n",
              "    <tr style=\"text-align: right;\">\n",
              "      <th></th>\n",
              "      <th>date</th>\n",
              "      <th>temp</th>\n",
              "    </tr>\n",
              "  </thead>\n",
              "  <tbody>\n",
              "    <tr>\n",
              "      <th>0</th>\n",
              "      <td>01-01-1980</td>\n",
              "      <td>4.16</td>\n",
              "    </tr>\n",
              "    <tr>\n",
              "      <th>1</th>\n",
              "      <td>02-01-1980</td>\n",
              "      <td>4.06</td>\n",
              "    </tr>\n",
              "    <tr>\n",
              "      <th>2</th>\n",
              "      <td>03-01-1980</td>\n",
              "      <td>7.12</td>\n",
              "    </tr>\n",
              "    <tr>\n",
              "      <th>3</th>\n",
              "      <td>04-01-1980</td>\n",
              "      <td>9.23</td>\n",
              "    </tr>\n",
              "    <tr>\n",
              "      <th>4</th>\n",
              "      <td>05-01-1980</td>\n",
              "      <td>3.20</td>\n",
              "    </tr>\n",
              "  </tbody>\n",
              "</table>\n",
              "</div>"
            ],
            "text/plain": [
              "         date  temp\n",
              "0  01-01-1980  4.16\n",
              "1  02-01-1980  4.06\n",
              "2  03-01-1980  7.12\n",
              "3  04-01-1980  9.23\n",
              "4  05-01-1980  3.20"
            ]
          },
          "metadata": {
            "tags": []
          },
          "execution_count": 2
        }
      ]
    },
    {
      "cell_type": "code",
      "metadata": {
        "colab": {
          "base_uri": "https://localhost:8080/",
          "height": 297
        },
        "id": "0sdfyg6yF6Xr",
        "outputId": "9dd108b4-e34c-4756-abe9-5a45850b3522"
      },
      "source": [
        "data.describe()"
      ],
      "execution_count": null,
      "outputs": [
        {
          "output_type": "execute_result",
          "data": {
            "text/html": [
              "<div>\n",
              "<style scoped>\n",
              "    .dataframe tbody tr th:only-of-type {\n",
              "        vertical-align: middle;\n",
              "    }\n",
              "\n",
              "    .dataframe tbody tr th {\n",
              "        vertical-align: top;\n",
              "    }\n",
              "\n",
              "    .dataframe thead th {\n",
              "        text-align: right;\n",
              "    }\n",
              "</style>\n",
              "<table border=\"1\" class=\"dataframe\">\n",
              "  <thead>\n",
              "    <tr style=\"text-align: right;\">\n",
              "      <th></th>\n",
              "      <th>temp</th>\n",
              "    </tr>\n",
              "  </thead>\n",
              "  <tbody>\n",
              "    <tr>\n",
              "      <th>count</th>\n",
              "      <td>11323.000000</td>\n",
              "    </tr>\n",
              "    <tr>\n",
              "      <th>mean</th>\n",
              "      <td>15.573259</td>\n",
              "    </tr>\n",
              "    <tr>\n",
              "      <th>std</th>\n",
              "      <td>7.877191</td>\n",
              "    </tr>\n",
              "    <tr>\n",
              "      <th>min</th>\n",
              "      <td>-5.110000</td>\n",
              "    </tr>\n",
              "    <tr>\n",
              "      <th>25%</th>\n",
              "      <td>8.390000</td>\n",
              "    </tr>\n",
              "    <tr>\n",
              "      <th>50%</th>\n",
              "      <td>15.990000</td>\n",
              "    </tr>\n",
              "    <tr>\n",
              "      <th>75%</th>\n",
              "      <td>22.055000</td>\n",
              "    </tr>\n",
              "    <tr>\n",
              "      <th>max</th>\n",
              "      <td>32.390000</td>\n",
              "    </tr>\n",
              "  </tbody>\n",
              "</table>\n",
              "</div>"
            ],
            "text/plain": [
              "               temp\n",
              "count  11323.000000\n",
              "mean      15.573259\n",
              "std        7.877191\n",
              "min       -5.110000\n",
              "25%        8.390000\n",
              "50%       15.990000\n",
              "75%       22.055000\n",
              "max       32.390000"
            ]
          },
          "metadata": {
            "tags": []
          },
          "execution_count": 3
        }
      ]
    },
    {
      "cell_type": "code",
      "metadata": {
        "colab": {
          "base_uri": "https://localhost:8080/"
        },
        "id": "qbKgruEsF9gi",
        "outputId": "46eb4c3f-19a2-42b3-97e7-6aa06d3cab9c"
      },
      "source": [
        "data.info()"
      ],
      "execution_count": null,
      "outputs": [
        {
          "output_type": "stream",
          "text": [
            "<class 'pandas.core.frame.DataFrame'>\n",
            "RangeIndex: 11323 entries, 0 to 11322\n",
            "Data columns (total 2 columns):\n",
            " #   Column  Non-Null Count  Dtype  \n",
            "---  ------  --------------  -----  \n",
            " 0   date    11323 non-null  object \n",
            " 1   temp    11323 non-null  float64\n",
            "dtypes: float64(1), object(1)\n",
            "memory usage: 177.0+ KB\n"
          ],
          "name": "stdout"
        }
      ]
    },
    {
      "cell_type": "code",
      "metadata": {
        "id": "phm-wWbmDl4a"
      },
      "source": [
        "data['date'] = pd.to_datetime(data['date'])\n",
        "\n"
      ],
      "execution_count": null,
      "outputs": []
    },
    {
      "cell_type": "code",
      "metadata": {
        "colab": {
          "base_uri": "https://localhost:8080/",
          "height": 238
        },
        "id": "INHE8e6uDl4b",
        "outputId": "12e59155-196e-46a2-d109-6ff1b5a5b335"
      },
      "source": [
        "data['year'] = data['date'].dt.year\n",
        "data['month'] = data['date'].dt.month\n",
        "data['day'] = data['date'].dt.day\n",
        "data['week'] = data['date'].dt.week\n",
        "data['which_day'] = data['date'].dt.dayofweek\n",
        "data['quarter'] = data['date'].dt.quarter\n",
        "data.head()"
      ],
      "execution_count": null,
      "outputs": [
        {
          "output_type": "stream",
          "text": [
            "/usr/local/lib/python3.7/dist-packages/ipykernel_launcher.py:4: FutureWarning: Series.dt.weekofyear and Series.dt.week have been deprecated.  Please use Series.dt.isocalendar().week instead.\n",
            "  after removing the cwd from sys.path.\n"
          ],
          "name": "stderr"
        },
        {
          "output_type": "execute_result",
          "data": {
            "text/html": [
              "<div>\n",
              "<style scoped>\n",
              "    .dataframe tbody tr th:only-of-type {\n",
              "        vertical-align: middle;\n",
              "    }\n",
              "\n",
              "    .dataframe tbody tr th {\n",
              "        vertical-align: top;\n",
              "    }\n",
              "\n",
              "    .dataframe thead th {\n",
              "        text-align: right;\n",
              "    }\n",
              "</style>\n",
              "<table border=\"1\" class=\"dataframe\">\n",
              "  <thead>\n",
              "    <tr style=\"text-align: right;\">\n",
              "      <th></th>\n",
              "      <th>date</th>\n",
              "      <th>temp</th>\n",
              "      <th>year</th>\n",
              "      <th>month</th>\n",
              "      <th>day</th>\n",
              "      <th>week</th>\n",
              "      <th>which_day</th>\n",
              "      <th>quarter</th>\n",
              "    </tr>\n",
              "  </thead>\n",
              "  <tbody>\n",
              "    <tr>\n",
              "      <th>0</th>\n",
              "      <td>1980-01-01</td>\n",
              "      <td>4.16</td>\n",
              "      <td>1980</td>\n",
              "      <td>1</td>\n",
              "      <td>1</td>\n",
              "      <td>1</td>\n",
              "      <td>1</td>\n",
              "      <td>1</td>\n",
              "    </tr>\n",
              "    <tr>\n",
              "      <th>1</th>\n",
              "      <td>1980-02-01</td>\n",
              "      <td>4.06</td>\n",
              "      <td>1980</td>\n",
              "      <td>2</td>\n",
              "      <td>1</td>\n",
              "      <td>5</td>\n",
              "      <td>4</td>\n",
              "      <td>1</td>\n",
              "    </tr>\n",
              "    <tr>\n",
              "      <th>2</th>\n",
              "      <td>1980-03-01</td>\n",
              "      <td>7.12</td>\n",
              "      <td>1980</td>\n",
              "      <td>3</td>\n",
              "      <td>1</td>\n",
              "      <td>9</td>\n",
              "      <td>5</td>\n",
              "      <td>1</td>\n",
              "    </tr>\n",
              "    <tr>\n",
              "      <th>3</th>\n",
              "      <td>1980-04-01</td>\n",
              "      <td>9.23</td>\n",
              "      <td>1980</td>\n",
              "      <td>4</td>\n",
              "      <td>1</td>\n",
              "      <td>14</td>\n",
              "      <td>1</td>\n",
              "      <td>2</td>\n",
              "    </tr>\n",
              "    <tr>\n",
              "      <th>4</th>\n",
              "      <td>1980-05-01</td>\n",
              "      <td>3.20</td>\n",
              "      <td>1980</td>\n",
              "      <td>5</td>\n",
              "      <td>1</td>\n",
              "      <td>18</td>\n",
              "      <td>3</td>\n",
              "      <td>2</td>\n",
              "    </tr>\n",
              "  </tbody>\n",
              "</table>\n",
              "</div>"
            ],
            "text/plain": [
              "        date  temp  year  month  day  week  which_day  quarter\n",
              "0 1980-01-01  4.16  1980      1    1     1          1        1\n",
              "1 1980-02-01  4.06  1980      2    1     5          4        1\n",
              "2 1980-03-01  7.12  1980      3    1     9          5        1\n",
              "3 1980-04-01  9.23  1980      4    1    14          1        2\n",
              "4 1980-05-01  3.20  1980      5    1    18          3        2"
            ]
          },
          "metadata": {
            "tags": []
          },
          "execution_count": 6
        }
      ]
    },
    {
      "cell_type": "code",
      "metadata": {
        "id": "FI1_ALfmHFCO"
      },
      "source": [
        "data1=data[(data['month']==1) & (data['year']==2010)]"
      ],
      "execution_count": null,
      "outputs": []
    },
    {
      "cell_type": "code",
      "metadata": {
        "colab": {
          "base_uri": "https://localhost:8080/",
          "height": 296
        },
        "id": "5QekAqulx6QH",
        "outputId": "9c027156-898f-48a5-8a8a-3d945b6868e1"
      },
      "source": [
        "sns.lineplot(x=data1['day'],y=data1['temp'])\n"
      ],
      "execution_count": null,
      "outputs": [
        {
          "output_type": "execute_result",
          "data": {
            "text/plain": [
              "<matplotlib.axes._subplots.AxesSubplot at 0x7fa1d6896710>"
            ]
          },
          "metadata": {
            "tags": []
          },
          "execution_count": 15
        },
        {
          "output_type": "display_data",
          "data": {
            "image/png": "[encoded data removed]",
            "text/plain": [
              "<Figure size 432x288 with 1 Axes>"
            ]
          },
          "metadata": {
            "tags": []
          }
        }
      ]
    },
    {
      "cell_type": "code",
      "metadata": {
        "colab": {
          "base_uri": "https://localhost:8080/",
          "height": 296
        },
        "id": "0qPkFJUqHCvL",
        "outputId": "06d9f1b6-ec29-4799-d80e-86d45ad1480b"
      },
      "source": [
        "sns.lineplot(x=data1['day'],y=data1['temp'])"
      ],
      "execution_count": null,
      "outputs": [
        {
          "output_type": "execute_result",
          "data": {
            "text/plain": [
              "<matplotlib.axes._subplots.AxesSubplot at 0x7fa1dc058890>"
            ]
          },
          "metadata": {
            "tags": []
          },
          "execution_count": 8
        },
        {
          "output_type": "display_data",
          "data": {
            "image/png": "[encoded data removed]",
            "text/plain": [
              "<Figure size 432x288 with 1 Axes>"
            ]
          },
          "metadata": {
            "tags": []
          }
        }
      ]
    },
    {
      "cell_type": "code",
      "metadata": {
        "id": "QOhUCXSkNodc"
      },
      "source": [
        "data2=data[ (data['year']==2000)]"
      ],
      "execution_count": null,
      "outputs": []
    },
    {
      "cell_type": "code",
      "metadata": {
        "colab": {
          "base_uri": "https://localhost:8080/",
          "height": 296
        },
        "id": "UdwFsWbfNogX",
        "outputId": "76265199-4bad-4362-9feb-d6896a152d46"
      },
      "source": [
        "sns.lineplot(x=data2['month'],y=data2['temp'])"
      ],
      "execution_count": null,
      "outputs": [
        {
          "output_type": "execute_result",
          "data": {
            "text/plain": [
              "<matplotlib.axes._subplots.AxesSubplot at 0x7fa1db7a7850>"
            ]
          },
          "metadata": {
            "tags": []
          },
          "execution_count": 10
        },
        {
          "output_type": "display_data",
          "data": {
            "image/png": "[encoded data removed]",
            "text/plain": [
              "<Figure size 432x288 with 1 Axes>"
            ]
          },
          "metadata": {
            "tags": []
          }
        }
      ]
    },
    {
      "cell_type": "code",
      "metadata": {
        "id": "FO2_zA9ePPbC"
      },
      "source": [
        "maps={1:0,2:0,3:0,4:1,5:1,6:1,7:1,8:1,9:1,10:0,11:0,12:0}\n",
        "data['months_map']=data['month'].map(maps)\n"
      ],
      "execution_count": null,
      "outputs": []
    },
    {
      "cell_type": "code",
      "metadata": {
        "id": "P4_6mVMgxfdO"
      },
      "source": [
        "days=[]\n",
        "for (i,j) in zip(data['month'],data['day']):\n",
        "  if(i<=3 and i>=10):\n",
        "    if(j<=3 and i<15):\n",
        "      days.append(1)\n",
        "    else:\n",
        "      days.append(0)\n",
        "  else:\n",
        "    if(j<5):\n",
        "      days.append(0)\n",
        "    else:\n",
        "      days.append(1)\n",
        "    "
      ],
      "execution_count": null,
      "outputs": []
    },
    {
      "cell_type": "code",
      "metadata": {
        "id": "Yd9h7l1-xfhC"
      },
      "source": [
        "data['days']=days"
      ],
      "execution_count": null,
      "outputs": []
    },
    {
      "cell_type": "code",
      "metadata": {
        "colab": {
          "base_uri": "https://localhost:8080/",
          "height": 296
        },
        "id": "-yAyrs8SPPgX",
        "outputId": "f318a9d6-93ae-4a9b-a783-4c8c21b5462a"
      },
      "source": [
        "data3=data[data['year']>2000]\n",
        "sns.lineplot(x=data3['year'],y=data3['temp'])\n"
      ],
      "execution_count": null,
      "outputs": [
        {
          "output_type": "execute_result",
          "data": {
            "text/plain": [
              "<matplotlib.axes._subplots.AxesSubplot at 0x7fa1db2e8e90>"
            ]
          },
          "metadata": {
            "tags": []
          },
          "execution_count": 11
        },
        {
          "output_type": "display_data",
          "data": {
            "image/png": "[encoded data removed]",
            "text/plain": [
              "<Figure size 432x288 with 1 Axes>"
            ]
          },
          "metadata": {
            "tags": []
          }
        }
      ]
    },
    {
      "cell_type": "code",
      "metadata": {
        "colab": {
          "base_uri": "https://localhost:8080/",
          "height": 296
        },
        "id": "ArQBN1p-PPkP",
        "outputId": "f0017b67-9cb1-4b33-b563-fc4fa2a9ae93"
      },
      "source": [
        "data3=data[(data['year']<2000)&  (data['year']>1990)]\n",
        "sns.lineplot(x=data3['year'],y=data3['temp'])\n"
      ],
      "execution_count": null,
      "outputs": [
        {
          "output_type": "execute_result",
          "data": {
            "text/plain": [
              "<matplotlib.axes._subplots.AxesSubplot at 0x7f1012e6bbd0>"
            ]
          },
          "metadata": {
            "tags": []
          },
          "execution_count": 85
        },
        {
          "output_type": "display_data",
          "data": {
            "image/png": "[encoded data removed]",
            "text/plain": [
              "<Figure size 432x288 with 1 Axes>"
            ]
          },
          "metadata": {
            "tags": []
          }
        }
      ]
    },
    {
      "cell_type": "code",
      "metadata": {
        "colab": {
          "base_uri": "https://localhost:8080/",
          "height": 296
        },
        "id": "206TBPs2PPoN",
        "outputId": "04d3c095-77e6-4e1a-fbb4-a6f770c6cdcf"
      },
      "source": [
        "data3=data[(data['year']<=1990)&  (data['year']>=1980)]\n",
        "sns.lineplot(x=data3['year'],y=data3['temp'])"
      ],
      "execution_count": null,
      "outputs": [
        {
          "output_type": "execute_result",
          "data": {
            "text/plain": [
              "<matplotlib.axes._subplots.AxesSubplot at 0x7f101311fcd0>"
            ]
          },
          "metadata": {
            "tags": []
          },
          "execution_count": 87
        },
        {
          "output_type": "display_data",
          "data": {
            "image/png": "[encoded data removed]",
            "text/plain": [
              "<Figure size 432x288 with 1 Axes>"
            ]
          },
          "metadata": {
            "tags": []
          }
        }
      ]
    },
    {
      "cell_type": "code",
      "metadata": {
        "colab": {
          "base_uri": "https://localhost:8080/",
          "height": 296
        },
        "id": "fBvGrJniPPsh",
        "outputId": "18fdc0fa-a96e-4e94-ff99-c7f1201052bd"
      },
      "source": [
        "data3=data[(data['year']<=1990)&  (data['year']>=1980)]\n",
        "sns.lineplot(x=data3['quarter'],y=data3['temp'])"
      ],
      "execution_count": null,
      "outputs": [
        {
          "output_type": "execute_result",
          "data": {
            "text/plain": [
              "<matplotlib.axes._subplots.AxesSubplot at 0x7f1012d22ad0>"
            ]
          },
          "metadata": {
            "tags": []
          },
          "execution_count": 88
        },
        {
          "output_type": "display_data",
          "data": {
            "image/png": "[encoded data removed]",
            "text/plain": [
              "<Figure size 432x288 with 1 Axes>"
            ]
          },
          "metadata": {
            "tags": []
          }
        }
      ]
    },
    {
      "cell_type": "code",
      "metadata": {
        "colab": {
          "base_uri": "https://localhost:8080/",
          "height": 296
        },
        "id": "R6G2HaCxQTsW",
        "outputId": "e6180b18-e3d7-4787-a579-214426f5b02a"
      },
      "source": [
        "data3=data[(data['year']<=2000)&  (data['year']>=1990)]\n",
        "sns.lineplot(x=data3['quarter'],y=data3['temp'])"
      ],
      "execution_count": null,
      "outputs": [
        {
          "output_type": "execute_result",
          "data": {
            "text/plain": [
              "<matplotlib.axes._subplots.AxesSubplot at 0x7f1012d098d0>"
            ]
          },
          "metadata": {
            "tags": []
          },
          "execution_count": 89
        },
        {
          "output_type": "display_data",
          "data": {
            "image/png": "[encoded data removed]",
            "text/plain": [
              "<Figure size 432x288 with 1 Axes>"
            ]
          },
          "metadata": {
            "tags": []
          }
        }
      ]
    },
    {
      "cell_type": "code",
      "metadata": {
        "colab": {
          "base_uri": "https://localhost:8080/",
          "height": 296
        },
        "id": "VaZhrTwVQTmi",
        "outputId": "3dd9c6f0-8d0d-4399-ae99-8e47c145550b"
      },
      "source": [
        "data3=data[data['year']>2000]\n",
        "sns.lineplot(x=data3['quarter'],y=data3['temp'])\n"
      ],
      "execution_count": null,
      "outputs": [
        {
          "output_type": "execute_result",
          "data": {
            "text/plain": [
              "<matplotlib.axes._subplots.AxesSubplot at 0x7f1012c71bd0>"
            ]
          },
          "metadata": {
            "tags": []
          },
          "execution_count": 90
        },
        {
          "output_type": "display_data",
          "data": {
            "image/png": "[encoded data removed]",
            "text/plain": [
              "<Figure size 432x288 with 1 Axes>"
            ]
          },
          "metadata": {
            "tags": []
          }
        }
      ]
    },
    {
      "cell_type": "code",
      "metadata": {
        "id": "A0s0hHBiQThQ"
      },
      "source": [
        ""
      ],
      "execution_count": null,
      "outputs": []
    },
    {
      "cell_type": "code",
      "metadata": {
        "id": "q5RG7QtfQTdI"
      },
      "source": [
        ""
      ],
      "execution_count": null,
      "outputs": []
    },
    {
      "cell_type": "code",
      "metadata": {
        "colab": {
          "base_uri": "https://localhost:8080/"
        },
        "id": "saA4oj64Dl4d",
        "outputId": "0460fce9-450d-4cb9-e26e-f57bf5894acc"
      },
      "source": [
        "data.groupby('year')['temp'].mean()"
      ],
      "execution_count": null,
      "outputs": [
        {
          "output_type": "execute_result",
          "data": {
            "text/plain": [
              "year\n",
              "1980    14.685792\n",
              "1981    14.380466\n",
              "1982    15.323151\n",
              "1983    15.024575\n",
              "1984    14.168197\n",
              "1985    15.139260\n",
              "1986    14.543096\n",
              "1987    15.545890\n",
              "1988    14.870902\n",
              "1989    15.737918\n",
              "1990    16.450274\n",
              "1991    15.836630\n",
              "1992    15.509262\n",
              "1993    15.028082\n",
              "1994    16.151753\n",
              "1995    15.743726\n",
              "1996    15.074098\n",
              "1997    15.866932\n",
              "1998    16.076767\n",
              "1999    16.329151\n",
              "2000    15.893251\n",
              "2001    15.709370\n",
              "2002    15.987068\n",
              "2003    15.425123\n",
              "2004    16.707869\n",
              "2005    15.554986\n",
              "2006    15.784192\n",
              "2007    16.070301\n",
              "2008    15.914126\n",
              "2009    16.009260\n",
              "2010    16.234384\n",
              "Name: temp, dtype: float64"
            ]
          },
          "metadata": {
            "tags": []
          },
          "execution_count": 15
        }
      ]
    },
    {
      "cell_type": "code",
      "metadata": {
        "id": "Hqm6dF4MDl4e",
        "outputId": "ae2edd36-4436-4dd1-8abf-a5eb0d2b9d10"
      },
      "source": [
        "data.groupby('quarter')['temp'].mean()"
      ],
      "execution_count": null,
      "outputs": [
        {
          "output_type": "execute_result",
          "data": {
            "text/plain": [
              "quarter\n",
              "1    10.264371\n",
              "2    17.492347\n",
              "3    21.257398\n",
              "4    13.199260\n",
              "Name: temp, dtype: float64"
            ]
          },
          "metadata": {
            "tags": []
          },
          "execution_count": 33
        }
      ]
    },
    {
      "cell_type": "code",
      "metadata": {
        "id": "Jk0zpPiZDl4g",
        "outputId": "3a8ab438-fe33-4a09-aad0-ae0dec4d4888"
      },
      "source": [
        "data.groupby('month')['temp'].mean()"
      ],
      "execution_count": null,
      "outputs": [
        {
          "output_type": "execute_result",
          "data": {
            "text/plain": [
              "month\n",
              "1      8.905016\n",
              "2      9.935354\n",
              "3     11.923642\n",
              "4     15.267731\n",
              "5     17.630000\n",
              "6     19.574720\n",
              "7     21.925369\n",
              "8     22.311811\n",
              "9     19.477602\n",
              "10    16.330676\n",
              "11    13.062613\n",
              "12    10.200083\n",
              "Name: temp, dtype: float64"
            ]
          },
          "metadata": {
            "tags": []
          },
          "execution_count": 5
        }
      ]
    },
    {
      "cell_type": "code",
      "metadata": {
        "id": "lK2hkHh_Dl4h",
        "outputId": "dc2f3509-d2b9-4e82-ef85-34a977405b0c"
      },
      "source": [
        "holder1 = data.groupby('month')['temp'].max()\n",
        "holder2 = data.groupby('month')['temp'].min()\n",
        "print(\"max:\", holder1, \"\\nmin:\", holder2)"
      ],
      "execution_count": null,
      "outputs": [
        {
          "output_type": "stream",
          "text": [
            "max: month\n",
            "1     30.21\n",
            "2     31.51\n",
            "3     31.64\n",
            "4     31.17\n",
            "5     29.67\n",
            "6     30.72\n",
            "7     32.39\n",
            "8     31.73\n",
            "9     30.66\n",
            "10    29.75\n",
            "11    29.56\n",
            "12    29.18\n",
            "Name: temp, dtype: float64 \n",
            "min: month\n",
            "1    -2.05\n",
            "2    -2.42\n",
            "3    -1.80\n",
            "4    -3.15\n",
            "5    -1.68\n",
            "6    -2.75\n",
            "7    -5.11\n",
            "8    -3.56\n",
            "9    -2.33\n",
            "10   -0.99\n",
            "11    1.40\n",
            "12    0.50\n",
            "Name: temp, dtype: float64\n"
          ],
          "name": "stdout"
        }
      ]
    },
    {
      "cell_type": "code",
      "metadata": {
        "colab": {
          "base_uri": "https://localhost:8080/",
          "height": 558
        },
        "id": "POq8qGdoDl4i",
        "outputId": "d5594686-b5dc-483e-c0f4-536bf490bc04"
      },
      "source": [
        "plt.figure(figsize=(8,8))\n",
        "sns.heatmap(data.corr(),annot=True,cmap='viridis',linewidths=.5)"
      ],
      "execution_count": null,
      "outputs": [
        {
          "output_type": "execute_result",
          "data": {
            "text/plain": [
              "<matplotlib.axes._subplots.AxesSubplot at 0x7fa1d671eb10>"
            ]
          },
          "metadata": {
            "tags": []
          },
          "execution_count": 26
        },
        {
          "output_type": "display_data",
          "data": {
            "image/png": "[encoded data removed]",
            "text/plain": [
              "<Figure size 576x576 with 2 Axes>"
            ]
          },
          "metadata": {
            "tags": []
          }
        }
      ]
    },
    {
      "cell_type": "code",
      "metadata": {
        "id": "5GJDeh1CDl4k"
      },
      "source": [
        "final_data = data.copy()"
      ],
      "execution_count": null,
      "outputs": []
    },
    {
      "cell_type": "code",
      "metadata": {
        "id": "xbgvVlLSDl4l"
      },
      "source": [
        "final_data1 = final_data.drop(['week', 'which_day'], axis = 1)"
      ],
      "execution_count": null,
      "outputs": []
    },
    {
      "cell_type": "code",
      "metadata": {
        "id": "cnYDVaNRDl4m"
      },
      "source": [
        "final_data2 = final_data.drop(['week'], axis = 1)"
      ],
      "execution_count": null,
      "outputs": []
    },
    {
      "cell_type": "code",
      "metadata": {
        "id": "nE-xdli3Dl4n"
      },
      "source": [
        "y = final_data['temp']\n",
        "x_final2 = final_data1.drop(['temp', 'date'], axis = 1)\n",
        "\n",
        "x_train ,x_test, Y_train, Y_test = train_test_split(x_final2, y, test_size = 0.2, random_state=0)"
      ],
      "execution_count": null,
      "outputs": []
    },
    {
      "cell_type": "code",
      "metadata": {
        "colab": {
          "base_uri": "https://localhost:8080/"
        },
        "id": "A3-RBBp9Dl4o",
        "outputId": "ffa83a1a-413b-4ac9-98af-f2b7e1b8707d"
      },
      "source": [
        "y = final_data['temp']\n",
        "x_final22 = final_data2.drop(['temp', 'date'], axis = 1)\n",
        "\n",
        "X_train ,X_test, y_train, y_test = train_test_split(x_final22, y, test_size = 0.2, random_state=0)\n",
        "\n",
        "\n",
        "random_model1 = RandomForestRegressor(n_estimators=500) #max_depth=35)\n",
        "\n",
        "#Fit\n",
        "random_model1.fit(X_train, y_train)\n",
        "\n",
        "y_pred1 = random_model1.predict(X_test)\n",
        "\n",
        "#Checking the accuracy\n",
        "random_model_accuracy1 = round(random_model1.score(X_train, y_train)*100,2)\n",
        "print(round(random_model_accuracy1,2),'%')"
      ],
      "execution_count": null,
      "outputs": [
        {
          "output_type": "stream",
          "text": [
            "99.06 %\n"
          ],
          "name": "stdout"
        }
      ]
    },
    {
      "cell_type": "code",
      "metadata": {
        "colab": {
          "base_uri": "https://localhost:8080/"
        },
        "id": "kzw8xPtpDl4p",
        "outputId": "199ebcfa-9b9e-492d-ed16-89c08c033aa0"
      },
      "source": [
        "random_model_accuracy1 = round(random_model1.score(X_test, y_test)*100,2)\n",
        "print(round(random_model_accuracy1,2),'%')"
      ],
      "execution_count": null,
      "outputs": [
        {
          "output_type": "stream",
          "text": [
            "92.6 %\n"
          ],
          "name": "stdout"
        }
      ]
    },
    {
      "cell_type": "code",
      "metadata": {
        "colab": {
          "base_uri": "https://localhost:8080/"
        },
        "id": "kiBwekhWDl4q",
        "outputId": "f7061b34-fc29-4f8c-ed5c-d0bf5d347f4b"
      },
      "source": [
        "mse = mean_squared_error(Y_test, y_pred1)\n",
        "rmse = np.sqrt(mse)\n",
        "print(rmse)"
      ],
      "execution_count": null,
      "outputs": [
        {
          "output_type": "stream",
          "text": [
            "2.1302695193316636\n"
          ],
          "name": "stdout"
        }
      ]
    },
    {
      "cell_type": "code",
      "metadata": {
        "colab": {
          "base_uri": "https://localhost:8080/"
        },
        "id": "d7nBl028Dl4r",
        "outputId": "3e52b9cc-d439-4fee-810c-adc92658da61"
      },
      "source": [
        "random_model1 = RandomForestRegressor(n_estimators=500)\n",
        "#Fit\n",
        "random_model1.fit(x_train, Y_train)\n",
        "\n",
        "y_pred1 = random_model1.predict(x_test)\n",
        "\n",
        "#Checking the accuracy\n",
        "random_model_accuracy1 = round(random_model1.score(x_train, Y_train)*100,2)\n",
        "print(round(random_model_accuracy1,2),'%')"
      ],
      "execution_count": null,
      "outputs": [
        {
          "output_type": "stream",
          "text": [
            "99.19 %\n"
          ],
          "name": "stdout"
        }
      ]
    },
    {
      "cell_type": "code",
      "metadata": {
        "colab": {
          "base_uri": "https://localhost:8080/"
        },
        "id": "xZOGmGwNDl4s",
        "outputId": "ac429a6b-1a16-47bc-9497-d304c673af5d"
      },
      "source": [
        "random_model_accuracy1 = round(random_model1.score(x_test, Y_test)*100,2)\n",
        "print(round(random_model_accuracy1,2),'%')"
      ],
      "execution_count": null,
      "outputs": [
        {
          "output_type": "stream",
          "text": [
            "93.45 %\n"
          ],
          "name": "stdout"
        }
      ]
    },
    {
      "cell_type": "code",
      "metadata": {
        "colab": {
          "base_uri": "https://localhost:8080/"
        },
        "id": "M8XSxburDl4t",
        "outputId": "20987aab-7a23-492f-f8ec-44afba7763c6"
      },
      "source": [
        "mse = mean_squared_error(Y_test, y_pred1)\n",
        "rmse = np.sqrt(mse)\n",
        "print(rmse)"
      ],
      "execution_count": null,
      "outputs": [
        {
          "output_type": "stream",
          "text": [
            "2.0035669724384517\n"
          ],
          "name": "stdout"
        }
      ]
    },
    {
      "cell_type": "code",
      "metadata": {
        "colab": {
          "base_uri": "https://localhost:8080/",
          "height": 80
        },
        "id": "3ORMIt16Dl4v",
        "outputId": "133f278d-c082-437b-c49c-bdd2ae1d8821"
      },
      "source": [
        "test_data = pd.read_csv('/content/new_test.csv')\n",
        "# test_data = pd.DataFrame(test_data)\n",
        "test_data.head(1)"
      ],
      "execution_count": null,
      "outputs": [
        {
          "output_type": "execute_result",
          "data": {
            "text/html": [
              "<div>\n",
              "<style scoped>\n",
              "    .dataframe tbody tr th:only-of-type {\n",
              "        vertical-align: middle;\n",
              "    }\n",
              "\n",
              "    .dataframe tbody tr th {\n",
              "        vertical-align: top;\n",
              "    }\n",
              "\n",
              "    .dataframe thead th {\n",
              "        text-align: right;\n",
              "    }\n",
              "</style>\n",
              "<table border=\"1\" class=\"dataframe\">\n",
              "  <thead>\n",
              "    <tr style=\"text-align: right;\">\n",
              "      <th></th>\n",
              "      <th>date</th>\n",
              "    </tr>\n",
              "  </thead>\n",
              "  <tbody>\n",
              "    <tr>\n",
              "      <th>0</th>\n",
              "      <td>01-01-2011</td>\n",
              "    </tr>\n",
              "  </tbody>\n",
              "</table>\n",
              "</div>"
            ],
            "text/plain": [
              "         date\n",
              "0  01-01-2011"
            ]
          },
          "metadata": {
            "tags": []
          },
          "execution_count": 48
        }
      ]
    },
    {
      "cell_type": "code",
      "metadata": {
        "id": "Oa1bu9gnDl4w"
      },
      "source": [
        "test_data['date'] = pd.to_datetime(test_data['date'])"
      ],
      "execution_count": null,
      "outputs": []
    },
    {
      "cell_type": "code",
      "metadata": {
        "id": "08rNI4QKDl4x"
      },
      "source": [
        "test_data['year'] = test_data['date'].dt.year\n",
        "test_data['month'] = test_data['date'].dt.month\n",
        "test_data['day'] = test_data['date'].dt.day\n",
        "test_data['quarter']=test_data['date'].dt.quarter"
      ],
      "execution_count": null,
      "outputs": []
    },
    {
      "cell_type": "code",
      "metadata": {
        "id": "UkjCQV6i08yz"
      },
      "source": [
        "maps={1:0,2:0,3:0,4:1,5:1,6:1,7:1,8:1,9:1,10:0,11:0,12:0}\n",
        "test_data['months_map']=test_data['month'].map(maps)\n"
      ],
      "execution_count": null,
      "outputs": []
    },
    {
      "cell_type": "code",
      "metadata": {
        "id": "fAgnXwZy1AXa"
      },
      "source": [
        "days=[]\n",
        "for (i,j) in zip(test_data['month'],test_data['day']):\n",
        "  if(i<=3 and i>=10):\n",
        "    if(j<=3 and i<15):\n",
        "      days.append(1)\n",
        "    else:\n",
        "      days.append(0)\n",
        "  else:\n",
        "    if(j<5):\n",
        "      days.append(0)\n",
        "    else:\n",
        "      days.append(1)\n",
        "\n",
        "test_data['days']=days"
      ],
      "execution_count": null,
      "outputs": []
    },
    {
      "cell_type": "code",
      "metadata": {
        "colab": {
          "base_uri": "https://localhost:8080/",
          "height": 419
        },
        "id": "COGYVCIN1MLs",
        "outputId": "a6a822d8-00b2-4656-9c46-67683cd38212"
      },
      "source": [
        "x_train"
      ],
      "execution_count": null,
      "outputs": [
        {
          "output_type": "execute_result",
          "data": {
            "text/html": [
              "<div>\n",
              "<style scoped>\n",
              "    .dataframe tbody tr th:only-of-type {\n",
              "        vertical-align: middle;\n",
              "    }\n",
              "\n",
              "    .dataframe tbody tr th {\n",
              "        vertical-align: top;\n",
              "    }\n",
              "\n",
              "    .dataframe thead th {\n",
              "        text-align: right;\n",
              "    }\n",
              "</style>\n",
              "<table border=\"1\" class=\"dataframe\">\n",
              "  <thead>\n",
              "    <tr style=\"text-align: right;\">\n",
              "      <th></th>\n",
              "      <th>year</th>\n",
              "      <th>month</th>\n",
              "      <th>day</th>\n",
              "      <th>quarter</th>\n",
              "      <th>months_map</th>\n",
              "      <th>days</th>\n",
              "    </tr>\n",
              "  </thead>\n",
              "  <tbody>\n",
              "    <tr>\n",
              "      <th>10089</th>\n",
              "      <td>2007</td>\n",
              "      <td>8</td>\n",
              "      <td>16</td>\n",
              "      <td>3</td>\n",
              "      <td>1</td>\n",
              "      <td>1</td>\n",
              "    </tr>\n",
              "    <tr>\n",
              "      <th>476</th>\n",
              "      <td>1981</td>\n",
              "      <td>4</td>\n",
              "      <td>21</td>\n",
              "      <td>2</td>\n",
              "      <td>1</td>\n",
              "      <td>1</td>\n",
              "    </tr>\n",
              "    <tr>\n",
              "      <th>2006</th>\n",
              "      <td>1985</td>\n",
              "      <td>6</td>\n",
              "      <td>29</td>\n",
              "      <td>2</td>\n",
              "      <td>1</td>\n",
              "      <td>1</td>\n",
              "    </tr>\n",
              "    <tr>\n",
              "      <th>4085</th>\n",
              "      <td>1991</td>\n",
              "      <td>9</td>\n",
              "      <td>3</td>\n",
              "      <td>3</td>\n",
              "      <td>1</td>\n",
              "      <td>0</td>\n",
              "    </tr>\n",
              "    <tr>\n",
              "      <th>6680</th>\n",
              "      <td>1998</td>\n",
              "      <td>4</td>\n",
              "      <td>16</td>\n",
              "      <td>2</td>\n",
              "      <td>1</td>\n",
              "      <td>1</td>\n",
              "    </tr>\n",
              "    <tr>\n",
              "      <th>...</th>\n",
              "      <td>...</td>\n",
              "      <td>...</td>\n",
              "      <td>...</td>\n",
              "      <td>...</td>\n",
              "      <td>...</td>\n",
              "      <td>...</td>\n",
              "    </tr>\n",
              "    <tr>\n",
              "      <th>4859</th>\n",
              "      <td>1993</td>\n",
              "      <td>4</td>\n",
              "      <td>21</td>\n",
              "      <td>2</td>\n",
              "      <td>1</td>\n",
              "      <td>1</td>\n",
              "    </tr>\n",
              "    <tr>\n",
              "      <th>3264</th>\n",
              "      <td>1988</td>\n",
              "      <td>8</td>\n",
              "      <td>12</td>\n",
              "      <td>3</td>\n",
              "      <td>1</td>\n",
              "      <td>1</td>\n",
              "    </tr>\n",
              "    <tr>\n",
              "      <th>9845</th>\n",
              "      <td>2006</td>\n",
              "      <td>12</td>\n",
              "      <td>15</td>\n",
              "      <td>4</td>\n",
              "      <td>0</td>\n",
              "      <td>1</td>\n",
              "    </tr>\n",
              "    <tr>\n",
              "      <th>10799</th>\n",
              "      <td>2009</td>\n",
              "      <td>7</td>\n",
              "      <td>26</td>\n",
              "      <td>3</td>\n",
              "      <td>1</td>\n",
              "      <td>1</td>\n",
              "    </tr>\n",
              "    <tr>\n",
              "      <th>2732</th>\n",
              "      <td>1987</td>\n",
              "      <td>6</td>\n",
              "      <td>25</td>\n",
              "      <td>2</td>\n",
              "      <td>1</td>\n",
              "      <td>1</td>\n",
              "    </tr>\n",
              "  </tbody>\n",
              "</table>\n",
              "<p>9058 rows × 6 columns</p>\n",
              "</div>"
            ],
            "text/plain": [
              "       year  month  day  quarter  months_map  days\n",
              "10089  2007      8   16        3           1     1\n",
              "476    1981      4   21        2           1     1\n",
              "2006   1985      6   29        2           1     1\n",
              "4085   1991      9    3        3           1     0\n",
              "6680   1998      4   16        2           1     1\n",
              "...     ...    ...  ...      ...         ...   ...\n",
              "4859   1993      4   21        2           1     1\n",
              "3264   1988      8   12        3           1     1\n",
              "9845   2006     12   15        4           0     1\n",
              "10799  2009      7   26        3           1     1\n",
              "2732   1987      6   25        2           1     1\n",
              "\n",
              "[9058 rows x 6 columns]"
            ]
          },
          "metadata": {
            "tags": []
          },
          "execution_count": 53
        }
      ]
    },
    {
      "cell_type": "code",
      "metadata": {
        "colab": {
          "base_uri": "https://localhost:8080/",
          "height": 419
        },
        "id": "WOuyaJBk1UGi",
        "outputId": "9f07a6cc-8d2c-46b4-d058-2cfb04a948ad"
      },
      "source": [
        "test_data1"
      ],
      "execution_count": null,
      "outputs": [
        {
          "output_type": "execute_result",
          "data": {
            "text/html": [
              "<div>\n",
              "<style scoped>\n",
              "    .dataframe tbody tr th:only-of-type {\n",
              "        vertical-align: middle;\n",
              "    }\n",
              "\n",
              "    .dataframe tbody tr th {\n",
              "        vertical-align: top;\n",
              "    }\n",
              "\n",
              "    .dataframe thead th {\n",
              "        text-align: right;\n",
              "    }\n",
              "</style>\n",
              "<table border=\"1\" class=\"dataframe\">\n",
              "  <thead>\n",
              "    <tr style=\"text-align: right;\">\n",
              "      <th></th>\n",
              "      <th>year</th>\n",
              "      <th>month</th>\n",
              "      <th>day</th>\n",
              "      <th>months_map</th>\n",
              "      <th>days</th>\n",
              "    </tr>\n",
              "  </thead>\n",
              "  <tbody>\n",
              "    <tr>\n",
              "      <th>0</th>\n",
              "      <td>2011</td>\n",
              "      <td>1</td>\n",
              "      <td>1</td>\n",
              "      <td>0</td>\n",
              "      <td>0</td>\n",
              "    </tr>\n",
              "    <tr>\n",
              "      <th>1</th>\n",
              "      <td>2011</td>\n",
              "      <td>2</td>\n",
              "      <td>1</td>\n",
              "      <td>0</td>\n",
              "      <td>0</td>\n",
              "    </tr>\n",
              "    <tr>\n",
              "      <th>2</th>\n",
              "      <td>2011</td>\n",
              "      <td>3</td>\n",
              "      <td>1</td>\n",
              "      <td>0</td>\n",
              "      <td>0</td>\n",
              "    </tr>\n",
              "    <tr>\n",
              "      <th>3</th>\n",
              "      <td>2011</td>\n",
              "      <td>4</td>\n",
              "      <td>1</td>\n",
              "      <td>1</td>\n",
              "      <td>0</td>\n",
              "    </tr>\n",
              "    <tr>\n",
              "      <th>4</th>\n",
              "      <td>2011</td>\n",
              "      <td>5</td>\n",
              "      <td>1</td>\n",
              "      <td>1</td>\n",
              "      <td>0</td>\n",
              "    </tr>\n",
              "    <tr>\n",
              "      <th>...</th>\n",
              "      <td>...</td>\n",
              "      <td>...</td>\n",
              "      <td>...</td>\n",
              "      <td>...</td>\n",
              "      <td>...</td>\n",
              "    </tr>\n",
              "    <tr>\n",
              "      <th>3556</th>\n",
              "      <td>2020</td>\n",
              "      <td>9</td>\n",
              "      <td>26</td>\n",
              "      <td>1</td>\n",
              "      <td>1</td>\n",
              "    </tr>\n",
              "    <tr>\n",
              "      <th>3557</th>\n",
              "      <td>2020</td>\n",
              "      <td>9</td>\n",
              "      <td>27</td>\n",
              "      <td>1</td>\n",
              "      <td>1</td>\n",
              "    </tr>\n",
              "    <tr>\n",
              "      <th>3558</th>\n",
              "      <td>2020</td>\n",
              "      <td>9</td>\n",
              "      <td>28</td>\n",
              "      <td>1</td>\n",
              "      <td>1</td>\n",
              "    </tr>\n",
              "    <tr>\n",
              "      <th>3559</th>\n",
              "      <td>2020</td>\n",
              "      <td>9</td>\n",
              "      <td>29</td>\n",
              "      <td>1</td>\n",
              "      <td>1</td>\n",
              "    </tr>\n",
              "    <tr>\n",
              "      <th>3560</th>\n",
              "      <td>2020</td>\n",
              "      <td>9</td>\n",
              "      <td>30</td>\n",
              "      <td>1</td>\n",
              "      <td>1</td>\n",
              "    </tr>\n",
              "  </tbody>\n",
              "</table>\n",
              "<p>3561 rows × 5 columns</p>\n",
              "</div>"
            ],
            "text/plain": [
              "      year  month  day  months_map  days\n",
              "0     2011      1    1           0     0\n",
              "1     2011      2    1           0     0\n",
              "2     2011      3    1           0     0\n",
              "3     2011      4    1           1     0\n",
              "4     2011      5    1           1     0\n",
              "...    ...    ...  ...         ...   ...\n",
              "3556  2020      9   26           1     1\n",
              "3557  2020      9   27           1     1\n",
              "3558  2020      9   28           1     1\n",
              "3559  2020      9   29           1     1\n",
              "3560  2020      9   30           1     1\n",
              "\n",
              "[3561 rows x 5 columns]"
            ]
          },
          "metadata": {
            "tags": []
          },
          "execution_count": 54
        }
      ]
    },
    {
      "cell_type": "code",
      "metadata": {
        "colab": {
          "base_uri": "https://localhost:8080/"
        },
        "id": "cFCwu8zXDl4y",
        "outputId": "b87e7915-aff7-4196-bc60-3f8ceb48be96"
      },
      "source": [
        "test_data1 = test_data.drop(['date'], axis = 1)\n",
        "\n",
        "y_pred = random_model1.predict(test_data1)\n",
        "\n",
        "y_pred"
      ],
      "execution_count": null,
      "outputs": [
        {
          "output_type": "execute_result",
          "data": {
            "text/plain": [
              "array([ 4.56658,  5.4996 ,  5.12178, ..., 20.48658, 20.64912, 19.19994])"
            ]
          },
          "metadata": {
            "tags": []
          },
          "execution_count": 55
        }
      ]
    },
    {
      "cell_type": "code",
      "metadata": {
        "colab": {
          "base_uri": "https://localhost:8080/"
        },
        "id": "KR6ZNr7QDl4y",
        "outputId": "4ce773bf-f5b3-4c24-979b-1607e349bd85"
      },
      "source": [
        "prediction = pd.Series(y_pred)\n",
        "prediction.head()"
      ],
      "execution_count": null,
      "outputs": [
        {
          "output_type": "execute_result",
          "data": {
            "text/plain": [
              "0    4.56658\n",
              "1    5.49960\n",
              "2    5.12178\n",
              "3    5.08270\n",
              "4    5.04138\n",
              "dtype: float64"
            ]
          },
          "metadata": {
            "tags": []
          },
          "execution_count": 56
        }
      ]
    },
    {
      "cell_type": "code",
      "metadata": {
        "colab": {
          "background_save": true
        },
        "id": "Q_VdY_NB13_Y"
      },
      "source": [
        "dict = {'name': nme, 'degree': deg, 'score': scr}  \n",
        "     \n",
        "df = pd.DataFrame(dict) \n",
        "  \n",
        "# saving the dataframe \n",
        "df.to_csv('file1.csv') "
      ],
      "execution_count": null,
      "outputs": []
    }
  ]
}